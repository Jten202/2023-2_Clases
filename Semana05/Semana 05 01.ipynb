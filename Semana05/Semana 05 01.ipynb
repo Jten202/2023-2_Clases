{
 "cells": [
  {
   "cell_type": "markdown",
   "id": "43ceb32b",
   "metadata": {},
   "source": [
    "# Tema\n",
    "\n",
    "1. Colecciones de datos\n",
    "2. Etrtura Decisivas y Estructuras Repetitiva\n",
    "3. Clase y Objetos\n",
    "4. Funciones"
   ]
  },
  {
   "cell_type": "code",
   "execution_count": 33,
   "id": "10944052",
   "metadata": {},
   "outputs": [
    {
     "data": {
      "text/plain": [
       "('Marani', 'Vega', 'Figueroa', 'Navarro')"
      ]
     },
     "execution_count": 33,
     "metadata": {},
     "output_type": "execute_result"
    }
   ],
   "source": [
    "tupla_aula=('Marani','Vega','Figueroa','Navarro')\n",
    "tupla_aula\n"
   ]
  },
  {
   "cell_type": "code",
   "execution_count": 34,
   "id": "5bf2085e",
   "metadata": {},
   "outputs": [
    {
     "data": {
      "text/plain": [
       "'Figueroa'"
      ]
     },
     "execution_count": 34,
     "metadata": {},
     "output_type": "execute_result"
    }
   ],
   "source": [
    "tupla_aula[2]"
   ]
  },
  {
   "cell_type": "code",
   "execution_count": 35,
   "id": "133857c6",
   "metadata": {},
   "outputs": [
    {
     "data": {
      "text/plain": [
       "4"
      ]
     },
     "execution_count": 35,
     "metadata": {},
     "output_type": "execute_result"
    }
   ],
   "source": [
    "len(tupla_aula)"
   ]
  },
  {
   "cell_type": "code",
   "execution_count": 36,
   "id": "9d24cdd5",
   "metadata": {},
   "outputs": [],
   "source": [
    "#El conjunto no tiene posicion ya que es desordenado.\n",
    "conjunto_aula={'Ramon','Moreno','Pascacio','Luque'}"
   ]
  },
  {
   "cell_type": "code",
   "execution_count": 37,
   "id": "119e4083",
   "metadata": {},
   "outputs": [
    {
     "data": {
      "text/plain": [
       "{'Luque', 'Moreno', 'Pascacio', 'Ramon'}"
      ]
     },
     "execution_count": 37,
     "metadata": {},
     "output_type": "execute_result"
    }
   ],
   "source": [
    "conjunto_aula"
   ]
  },
  {
   "cell_type": "code",
   "execution_count": 38,
   "id": "a646a97f",
   "metadata": {},
   "outputs": [
    {
     "name": "stdout",
     "output_type": "stream",
     "text": [
      "Moreno\n",
      "Pascacio\n",
      "Ramon\n",
      "Luque\n"
     ]
    }
   ],
   "source": [
    "for alumno in conjunto_aula:\n",
    "    print (alumno)"
   ]
  },
  {
   "cell_type": "code",
   "execution_count": 39,
   "id": "44e6d51b",
   "metadata": {},
   "outputs": [
    {
     "ename": "TypeError",
     "evalue": "'set' object is not subscriptable",
     "output_type": "error",
     "traceback": [
      "\u001b[1;31m---------------------------------------------------------------------------\u001b[0m",
      "\u001b[1;31mTypeError\u001b[0m                                 Traceback (most recent call last)",
      "Input \u001b[1;32mIn [39]\u001b[0m, in \u001b[0;36m<cell line: 1>\u001b[1;34m()\u001b[0m\n\u001b[1;32m----> 1\u001b[0m \u001b[43mconjunto_aula\u001b[49m\u001b[43m[\u001b[49m\u001b[38;5;241;43m2\u001b[39;49m\u001b[43m]\u001b[49m\n",
      "\u001b[1;31mTypeError\u001b[0m: 'set' object is not subscriptable"
     ]
    }
   ],
   "source": [
    "conjunto_aula[2]"
   ]
  },
  {
   "cell_type": "code",
   "execution_count": 40,
   "id": "611bcd71",
   "metadata": {},
   "outputs": [
    {
     "ename": "TypeError",
     "evalue": "'set' object is not subscriptable",
     "output_type": "error",
     "traceback": [
      "\u001b[1;31m---------------------------------------------------------------------------\u001b[0m",
      "\u001b[1;31mTypeError\u001b[0m                                 Traceback (most recent call last)",
      "Input \u001b[1;32mIn [40]\u001b[0m, in \u001b[0;36m<cell line: 1>\u001b[1;34m()\u001b[0m\n\u001b[1;32m----> 1\u001b[0m \u001b[43mconjunto_aula\u001b[49m\u001b[43m[\u001b[49m\u001b[38;5;241;43m2\u001b[39;49m\u001b[43m]\u001b[49m\n",
      "\u001b[1;31mTypeError\u001b[0m: 'set' object is not subscriptable"
     ]
    }
   ],
   "source": [
    "conjunto_aula[2]"
   ]
  },
  {
   "cell_type": "code",
   "execution_count": 41,
   "id": "471f43c2",
   "metadata": {},
   "outputs": [
    {
     "data": {
      "text/plain": [
       "{'Luque', 'Moreno', 'Muñoz', 'Pascacio', 'Ramon'}"
      ]
     },
     "execution_count": 41,
     "metadata": {},
     "output_type": "execute_result"
    }
   ],
   "source": [
    "conjunto_aula.add('Muñoz')\n",
    "conjunto_aula"
   ]
  },
  {
   "cell_type": "code",
   "execution_count": 42,
   "id": "3d6f4442",
   "metadata": {},
   "outputs": [
    {
     "data": {
      "text/plain": [
       "{'Moreno', 'Muñoz', 'Pascacio', 'Ramon'}"
      ]
     },
     "execution_count": 42,
     "metadata": {},
     "output_type": "execute_result"
    }
   ],
   "source": [
    "conjunto_aula.remove('Luque')\n",
    "conjunto_aula"
   ]
  },
  {
   "cell_type": "code",
   "execution_count": 43,
   "id": "91222b68",
   "metadata": {},
   "outputs": [],
   "source": [
    "#Dicionarios:\n",
    "#Es una colecion de elementos, que estan indexados,\n",
    "#no estan ordenadas y se pueden modificar\n",
    "#Son escritos entre llaves y están\n",
    "diccionario_aula={2:'Muñoz','1':'Luque','dos':'Pascacio','3':'Navarro','0':'Ramon'}"
   ]
  },
  {
   "cell_type": "code",
   "execution_count": 44,
   "id": "db72ebaa",
   "metadata": {},
   "outputs": [
    {
     "data": {
      "text/plain": [
       "'Muñoz'"
      ]
     },
     "execution_count": 44,
     "metadata": {},
     "output_type": "execute_result"
    }
   ],
   "source": [
    "diccionario_aula[2]"
   ]
  },
  {
   "cell_type": "code",
   "execution_count": 45,
   "id": "24e4a9a8",
   "metadata": {},
   "outputs": [],
   "source": [
    "diccionario_aula['5']='Tenorio'"
   ]
  },
  {
   "cell_type": "code",
   "execution_count": 46,
   "id": "25cec122",
   "metadata": {},
   "outputs": [
    {
     "data": {
      "text/plain": [
       "{2: 'Muñoz',\n",
       " '1': 'Luque',\n",
       " 'dos': 'Pascacio',\n",
       " '3': 'Navarro',\n",
       " '0': 'Ramon',\n",
       " '5': 'Tenorio'}"
      ]
     },
     "execution_count": 46,
     "metadata": {},
     "output_type": "execute_result"
    }
   ],
   "source": [
    "diccionario_aula"
   ]
  },
  {
   "cell_type": "code",
   "execution_count": 47,
   "id": "60f538f8",
   "metadata": {},
   "outputs": [
    {
     "data": {
      "text/plain": [
       "'Muñoz'"
      ]
     },
     "execution_count": 47,
     "metadata": {},
     "output_type": "execute_result"
    }
   ],
   "source": [
    "diccionario_aula.pop(2)"
   ]
  },
  {
   "cell_type": "code",
   "execution_count": 48,
   "id": "1edbead3",
   "metadata": {},
   "outputs": [
    {
     "data": {
      "text/plain": [
       "{'1': 'Luque', 'dos': 'Pascacio', '3': 'Navarro', '0': 'Ramon', '5': 'Tenorio'}"
      ]
     },
     "execution_count": 48,
     "metadata": {},
     "output_type": "execute_result"
    }
   ],
   "source": [
    "diccionario_aula"
   ]
  },
  {
   "cell_type": "code",
   "execution_count": 49,
   "id": "e38dd7fd",
   "metadata": {},
   "outputs": [
    {
     "data": {
      "text/plain": [
       "{'1': 'Luque', '3': 'Navarro', '0': 'Ramon', '5': 'Tenorio'}"
      ]
     },
     "execution_count": 49,
     "metadata": {},
     "output_type": "execute_result"
    }
   ],
   "source": [
    "del(diccionario_aula[\"dos\"])\n",
    "diccionario_aula"
   ]
  },
  {
   "cell_type": "code",
   "execution_count": 50,
   "id": "e44a0175",
   "metadata": {},
   "outputs": [
    {
     "name": "stdout",
     "output_type": "stream",
     "text": [
      "1\n",
      "3\n",
      "0\n",
      "5\n"
     ]
    }
   ],
   "source": [
    "for indice in diccionario_aula:\n",
    "    print(indice)"
   ]
  },
  {
   "cell_type": "code",
   "execution_count": 51,
   "id": "4f88efaa",
   "metadata": {},
   "outputs": [
    {
     "name": "stdout",
     "output_type": "stream",
     "text": [
      "1 Luque\n",
      "3 Navarro\n",
      "0 Ramon\n",
      "5 Tenorio\n"
     ]
    }
   ],
   "source": [
    "for indice, valor in diccionario_aula.items():\n",
    "    print (indice,valor)"
   ]
  },
  {
   "cell_type": "code",
   "execution_count": 52,
   "id": "e7c0f929",
   "metadata": {},
   "outputs": [],
   "source": [
    "estudiantes=['FIGUEROA','GARCIA','GUTIERREZ','ISLA','LOPEZ','LUQUE','MAMANI','MARCANI','MONDRAGON','MORENO','MUÑOZ','NAVARRO','OTAZU','PASCACIO','RAMON','TENORIO','VEGAS']"
   ]
  },
  {
   "cell_type": "code",
   "execution_count": 53,
   "id": "9205f9eb",
   "metadata": {},
   "outputs": [
    {
     "name": "stdout",
     "output_type": "stream",
     "text": [
      "Ingrese un apellido: TENORIO\n",
      "El alumno TENORIO se encuentra en la lista\n"
     ]
    }
   ],
   "source": [
    "apellido=input(\"Ingrese un apellido: \")\n",
    "if apellido in estudiantes:\n",
    "    print(f\"El alumno {apellido} se encuentra en la lista\")\n",
    "else:\n",
    "    print(f\"{apellido} no se encuentra en la lista\")"
   ]
  },
  {
   "cell_type": "code",
   "execution_count": 56,
   "id": "5f768398",
   "metadata": {},
   "outputs": [
    {
     "name": "stdout",
     "output_type": "stream",
     "text": [
      "Producto 1: 1000\n",
      "Producto 2: 2000\n",
      "Producto 3: 3000\n",
      "5400.0\n"
     ]
    }
   ],
   "source": [
    "# SOLUCION \n",
    "p1 = float(input(\"Producto 1: \"))\n",
    "p2 = float(input(\"Producto 2: \"))\n",
    "p3 = float(input(\"Producto 3: \"))\n",
    "\n",
    "total = p1 + p2 + p3\n",
    "if (total >= 1000):\n",
    "    total*= 0.9\n",
    "    print(total)\n"
   ]
  },
  {
   "cell_type": "code",
   "execution_count": 27,
   "id": "e3e2afe1",
   "metadata": {},
   "outputs": [
    {
     "name": "stdout",
     "output_type": "stream",
     "text": [
      "Ingrese un apellido: FLOR\n",
      "FLOR no se encuentra en la lista\n"
     ]
    }
   ],
   "source": [
    "apellido=input(\"Ingrese un apellido: \")\n",
    "if apellido in estudiantes:\n",
    "    print(f\"El alumno {apellido} se encuentra en la lista\")\n",
    "else:\n",
    "    print(f\"{apellido} no se encuentra en la lista\")"
   ]
  },
  {
   "cell_type": "code",
   "execution_count": 78,
   "id": "8012edbc",
   "metadata": {},
   "outputs": [
    {
     "name": "stdout",
     "output_type": "stream",
     "text": [
      "Ingrese Monto112334\n",
      "Categoria D\n"
     ]
    }
   ],
   "source": [
    "cat=int(input(\"Ingrese Monto\"))\n",
    "if cat <= 1000:\n",
    "    print(\"Categoria A\")\n",
    "elif cat <= 2000:\n",
    "    print(\"Categoria B\")\n",
    "elif cat <= 5000:\n",
    "    print(\"Categoria C\")\n",
    "else:\n",
    "    print(\"Categoria D\")"
   ]
  },
  {
   "cell_type": "code",
   "execution_count": 67,
   "id": "9a8dd0e6",
   "metadata": {},
   "outputs": [
    {
     "name": "stdout",
     "output_type": "stream",
     "text": [
      "Ingrese una frase: LKAJSFLKJSDF\n",
      "L\n",
      "K\n",
      "A\n",
      "J\n",
      "S\n",
      "F\n",
      "L\n",
      "K\n",
      "J\n",
      "S\n",
      "D\n",
      "F\n"
     ]
    }
   ],
   "source": [
    "cadena=input(\"Ingrese una frase: \")\n",
    "for caracter in cadena:\n",
    "    print(caracter)"
   ]
  },
  {
   "cell_type": "code",
   "execution_count": 72,
   "id": "cfcc1ea0",
   "metadata": {},
   "outputs": [
    {
     "name": "stdout",
     "output_type": "stream",
     "text": [
      "10\n",
      "12\n",
      "14\n",
      "16\n",
      "18\n"
     ]
    }
   ],
   "source": [
    "for numero in range(10,20,2):\n",
    "    print (numero)"
   ]
  },
  {
   "cell_type": "code",
   "execution_count": 75,
   "id": "45ac7964",
   "metadata": {},
   "outputs": [
    {
     "name": "stdout",
     "output_type": "stream",
     "text": [
      "1\n",
      "2\n",
      "3\n",
      "4\n",
      "5\n",
      "6\n",
      "7\n",
      "8\n",
      "9\n",
      "10\n"
     ]
    }
   ],
   "source": [
    "numero=1\n",
    "fin=10\n",
    "while numero<=fin:\n",
    "    print(numero)\n",
    "    numero+=1"
   ]
  },
  {
   "cell_type": "code",
   "execution_count": null,
   "id": "41e2ffd9",
   "metadata": {},
   "outputs": [],
   "source": []
  }
 ],
 "metadata": {
  "kernelspec": {
   "display_name": "Python 3 (ipykernel)",
   "language": "python",
   "name": "python3"
  },
  "language_info": {
   "codemirror_mode": {
    "name": "ipython",
    "version": 3
   },
   "file_extension": ".py",
   "mimetype": "text/x-python",
   "name": "python",
   "nbconvert_exporter": "python",
   "pygments_lexer": "ipython3",
   "version": "3.9.12"
  }
 },
 "nbformat": 4,
 "nbformat_minor": 5
}
