{
 "cells": [
  {
   "cell_type": "markdown",
   "id": "308455ba",
   "metadata": {},
   "source": [
    "# Tema\n",
    "\n",
    "1. Colecciones de datos\n",
    "2. Etrtura Decisivas y Estructuras Repetitiva\n",
    "3. Clase y Objetos\n",
    "4. Funciones"
   ]
  },
  {
   "cell_type": "code",
   "execution_count": 3,
   "id": "b41f1634",
   "metadata": {},
   "outputs": [
    {
     "data": {
      "text/plain": [
       "('Marani', 'Vega', 'Figueroa', 'Navarro')"
      ]
     },
     "execution_count": 3,
     "metadata": {},
     "output_type": "execute_result"
    }
   ],
   "source": [
    "tupla_aula=('Marani','Vega','Figueroa','Navarro')\n",
    "tupla_aula\n"
   ]
  },
  {
   "cell_type": "code",
   "execution_count": 4,
   "id": "a951c63f",
   "metadata": {},
   "outputs": [
    {
     "data": {
      "text/plain": [
       "'Figueroa'"
      ]
     },
     "execution_count": 4,
     "metadata": {},
     "output_type": "execute_result"
    }
   ],
   "source": [
    "tupla_aula[2]"
   ]
  },
  {
   "cell_type": "code",
   "execution_count": 5,
   "id": "63007b58",
   "metadata": {},
   "outputs": [
    {
     "data": {
      "text/plain": [
       "4"
      ]
     },
     "execution_count": 5,
     "metadata": {},
     "output_type": "execute_result"
    }
   ],
   "source": [
    "len(tupla_aula)"
   ]
  },
  {
   "cell_type": "code",
   "execution_count": 6,
   "id": "14aa855f",
   "metadata": {},
   "outputs": [],
   "source": [
    "#El conjunto no tiene posicion ya que es desordenado.\n",
    "conjunto_aula={'Ramon','Moreno','Pascacio','Luque'}"
   ]
  },
  {
   "cell_type": "code",
   "execution_count": 7,
   "id": "16c76706",
   "metadata": {},
   "outputs": [
    {
     "data": {
      "text/plain": [
       "{'Luque', 'Moreno', 'Pascacio', 'Ramon'}"
      ]
     },
     "execution_count": 7,
     "metadata": {},
     "output_type": "execute_result"
    }
   ],
   "source": [
    "conjunto_aula"
   ]
  },
  {
   "cell_type": "code",
   "execution_count": 8,
   "id": "9ee6bca6",
   "metadata": {},
   "outputs": [
    {
     "name": "stdout",
     "output_type": "stream",
     "text": [
      "Moreno\n",
      "Pascacio\n",
      "Ramon\n",
      "Luque\n"
     ]
    }
   ],
   "source": [
    "for alumno in conjunto_aula:\n",
    "    print (alumno)"
   ]
  },
  {
   "cell_type": "code",
   "execution_count": 9,
   "id": "571e69f5",
   "metadata": {},
   "outputs": [
    {
     "ename": "TypeError",
     "evalue": "'set' object is not subscriptable",
     "output_type": "error",
     "traceback": [
      "\u001b[1;31m---------------------------------------------------------------------------\u001b[0m",
      "\u001b[1;31mTypeError\u001b[0m                                 Traceback (most recent call last)",
      "Input \u001b[1;32mIn [9]\u001b[0m, in \u001b[0;36m<cell line: 1>\u001b[1;34m()\u001b[0m\n\u001b[1;32m----> 1\u001b[0m \u001b[43mconjunto_aula\u001b[49m\u001b[43m[\u001b[49m\u001b[38;5;241;43m2\u001b[39;49m\u001b[43m]\u001b[49m\n",
      "\u001b[1;31mTypeError\u001b[0m: 'set' object is not subscriptable"
     ]
    }
   ],
   "source": [
    "conjunto_aula[2]"
   ]
  },
  {
   "cell_type": "code",
   "execution_count": 10,
   "id": "9a25888e",
   "metadata": {},
   "outputs": [
    {
     "ename": "TypeError",
     "evalue": "'set' object is not subscriptable",
     "output_type": "error",
     "traceback": [
      "\u001b[1;31m---------------------------------------------------------------------------\u001b[0m",
      "\u001b[1;31mTypeError\u001b[0m                                 Traceback (most recent call last)",
      "Input \u001b[1;32mIn [10]\u001b[0m, in \u001b[0;36m<cell line: 1>\u001b[1;34m()\u001b[0m\n\u001b[1;32m----> 1\u001b[0m \u001b[43mconjunto_aula\u001b[49m\u001b[43m[\u001b[49m\u001b[38;5;241;43m2\u001b[39;49m\u001b[43m]\u001b[49m\n",
      "\u001b[1;31mTypeError\u001b[0m: 'set' object is not subscriptable"
     ]
    }
   ],
   "source": [
    "conjunto_aula[2]"
   ]
  },
  {
   "cell_type": "code",
   "execution_count": 11,
   "id": "6ffc9e18",
   "metadata": {},
   "outputs": [
    {
     "data": {
      "text/plain": [
       "{'Luque', 'Moreno', 'Muñoz', 'Pascacio', 'Ramon'}"
      ]
     },
     "execution_count": 11,
     "metadata": {},
     "output_type": "execute_result"
    }
   ],
   "source": [
    "conjunto_aula.add('Muñoz')\n",
    "conjunto_aula"
   ]
  },
  {
   "cell_type": "code",
   "execution_count": 12,
   "id": "076326da",
   "metadata": {},
   "outputs": [
    {
     "data": {
      "text/plain": [
       "{'Moreno', 'Muñoz', 'Pascacio', 'Ramon'}"
      ]
     },
     "execution_count": 12,
     "metadata": {},
     "output_type": "execute_result"
    }
   ],
   "source": [
    "conjunto_aula.remove('Luque')\n",
    "conjunto_aula"
   ]
  },
  {
   "cell_type": "code",
   "execution_count": 13,
   "id": "cbbb188e",
   "metadata": {},
   "outputs": [],
   "source": [
    "#Dicionarios:\n",
    "#Es una colecion de elementos, que estan indexados,\n",
    "#no estan ordenadas y se pueden modificar\n",
    "#Son escritos entre llaves y están\n",
    "diccionario_aula={2:'Muñoz','1':'Luque','dos':'Pascacio','3':'Navarro','0':'Ramon'}"
   ]
  },
  {
   "cell_type": "code",
   "execution_count": 14,
   "id": "7182d6bc",
   "metadata": {},
   "outputs": [
    {
     "data": {
      "text/plain": [
       "'Muñoz'"
      ]
     },
     "execution_count": 14,
     "metadata": {},
     "output_type": "execute_result"
    }
   ],
   "source": [
    "diccionario_aula[2]"
   ]
  },
  {
   "cell_type": "code",
   "execution_count": 15,
   "id": "68c792fc",
   "metadata": {},
   "outputs": [],
   "source": [
    "diccionario_aula['5']='Tenorio'"
   ]
  },
  {
   "cell_type": "code",
   "execution_count": 16,
   "id": "a4669879",
   "metadata": {},
   "outputs": [
    {
     "data": {
      "text/plain": [
       "{2: 'Muñoz',\n",
       " '1': 'Luque',\n",
       " 'dos': 'Pascacio',\n",
       " '3': 'Navarro',\n",
       " '0': 'Ramon',\n",
       " '5': 'Tenorio'}"
      ]
     },
     "execution_count": 16,
     "metadata": {},
     "output_type": "execute_result"
    }
   ],
   "source": [
    "diccionario_aula"
   ]
  },
  {
   "cell_type": "code",
   "execution_count": 17,
   "id": "9f5dc69c",
   "metadata": {},
   "outputs": [
    {
     "data": {
      "text/plain": [
       "'Muñoz'"
      ]
     },
     "execution_count": 17,
     "metadata": {},
     "output_type": "execute_result"
    }
   ],
   "source": [
    "diccionario_aula.pop(2)"
   ]
  },
  {
   "cell_type": "code",
   "execution_count": 18,
   "id": "2c6abdba",
   "metadata": {},
   "outputs": [
    {
     "data": {
      "text/plain": [
       "{'1': 'Luque', 'dos': 'Pascacio', '3': 'Navarro', '0': 'Ramon', '5': 'Tenorio'}"
      ]
     },
     "execution_count": 18,
     "metadata": {},
     "output_type": "execute_result"
    }
   ],
   "source": [
    "diccionario_aula"
   ]
  },
  {
   "cell_type": "code",
   "execution_count": 19,
   "id": "0b4a053f",
   "metadata": {},
   "outputs": [
    {
     "data": {
      "text/plain": [
       "{'1': 'Luque', '3': 'Navarro', '0': 'Ramon', '5': 'Tenorio'}"
      ]
     },
     "execution_count": 19,
     "metadata": {},
     "output_type": "execute_result"
    }
   ],
   "source": [
    "del(diccionario_aula[\"dos\"])\n",
    "diccionario_aula"
   ]
  },
  {
   "cell_type": "code",
   "execution_count": 20,
   "id": "c93380ee",
   "metadata": {},
   "outputs": [
    {
     "name": "stdout",
     "output_type": "stream",
     "text": [
      "1\n",
      "3\n",
      "0\n",
      "5\n"
     ]
    }
   ],
   "source": [
    "for indice in diccionario_aula:\n",
    "    print(indice)"
   ]
  },
  {
   "cell_type": "code",
   "execution_count": 21,
   "id": "1b0f8d2f",
   "metadata": {},
   "outputs": [
    {
     "name": "stdout",
     "output_type": "stream",
     "text": [
      "1 Luque\n",
      "3 Navarro\n",
      "0 Ramon\n",
      "5 Tenorio\n"
     ]
    }
   ],
   "source": [
    "for indice, valor in diccionario_aula.items():\n",
    "    print (indice,valor)"
   ]
  },
  {
   "cell_type": "code",
   "execution_count": 22,
   "id": "fdd7a09b",
   "metadata": {},
   "outputs": [],
   "source": [
    "estudiantes=['FIGUEROA','GARCIA','GUTIERREZ','ISLA','LOPEZ','LUQUE','MAMANI','MARCANI','MONDRAGON','MORENO','MUÑOZ','NAVARRO','OTAZU','PASCACIO','RAMON','TENORIO','VEGAS']"
   ]
  },
  {
   "cell_type": "code",
   "execution_count": 23,
   "id": "9800e2eb",
   "metadata": {},
   "outputs": [
    {
     "name": "stdout",
     "output_type": "stream",
     "text": [
      "Ingrese un apellido: TENORIO\n",
      "El alumno TENORIO se encuentra en la lista\n"
     ]
    }
   ],
   "source": [
    "apellido=input(\"Ingrese un apellido: \")\n",
    "if apellido in estudiantes:\n",
    "    print(f\"El alumno {apellido} se encuentra en la lista\")\n",
    "else:\n",
    "    print(f\"{apellido} no se encuentra en la lista\")"
   ]
  },
  {
   "cell_type": "code",
   "execution_count": null,
   "id": "ac76c1d9",
   "metadata": {},
   "outputs": [],
   "source": []
  }
 ],
 "metadata": {
  "kernelspec": {
   "display_name": "Python 3 (ipykernel)",
   "language": "python",
   "name": "python3"
  },
  "language_info": {
   "codemirror_mode": {
    "name": "ipython",
    "version": 3
   },
   "file_extension": ".py",
   "mimetype": "text/x-python",
   "name": "python",
   "nbconvert_exporter": "python",
   "pygments_lexer": "ipython3",
   "version": "3.9.12"
  }
 },
 "nbformat": 4,
 "nbformat_minor": 5
}
