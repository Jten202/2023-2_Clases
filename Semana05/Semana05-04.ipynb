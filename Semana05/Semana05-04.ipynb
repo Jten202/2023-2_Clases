{
 "cells": [
  {
   "cell_type": "markdown",
   "id": "37bc957b",
   "metadata": {},
   "source": [
    "# CLASES Y OBJETOS"
   ]
  },
  {
   "cell_type": "code",
   "execution_count": 1,
   "id": "5ba3bf87",
   "metadata": {},
   "outputs": [],
   "source": [
    "class Persona:\n",
    "    nombre=\"\"\n",
    "    apellidos=\"\"\n",
    "    dni=\"\"\n",
    "    talla=0"
   ]
  },
  {
   "cell_type": "code",
   "execution_count": 2,
   "id": "797354be",
   "metadata": {},
   "outputs": [
    {
     "name": "stdout",
     "output_type": "stream",
     "text": [
      "persona1\n",
      "Nombre: Brandon\n",
      "Apellido: Cconislla\n",
      "DNI: 12345678\n",
      "Talla: 1.6\n"
     ]
    }
   ],
   "source": [
    "persona1= Persona()\n",
    "\n",
    "persona1.nombre=\"Brandon\"\n",
    "persona1.apellidos=\"Cconislla\"\n",
    "persona1.dni=\"12345678\"\n",
    "persona1.talla=1.6\n",
    "\n",
    "print(\"persona1\")\n",
    "print(\"Nombre:\",persona1.nombre)\n",
    "print(\"Apellido:\",persona1.apellidos)\n",
    "print(\"DNI:\",persona1.dni)\n",
    "print(\"Talla:\",persona1.talla)"
   ]
  },
  {
   "cell_type": "code",
   "execution_count": 5,
   "id": "5b27c754",
   "metadata": {},
   "outputs": [],
   "source": [
    "class curso:\n",
    "    codigo=\"\"\n",
    "    nombre=\"\"\n",
    "    horas=0\n",
    "    creditos=0\n",
    "    \n",
    "    def __init__(self,codigo,nombre,horas,creditos):\n",
    "        self.codigo=codigo\n",
    "        self.nombre=nombre\n",
    "        self.horas=horas\n",
    "        self.creditos=creditos\n",
    "        \n",
    "    def mostrar_datos_curso(self):\n",
    "        print(f\"Codigo:{self.codigo}\")\n",
    "        print(f\"Nombre:{self.nombre}\")\n",
    "        print(f\"Hora:{self.horas}\")\n",
    "        print(f\"Creditos:{self.creditos}\")"
   ]
  },
  {
   "cell_type": "code",
   "execution_count": 6,
   "id": "54022488",
   "metadata": {},
   "outputs": [],
   "source": [
    "curso1=curso(\"C0501\",\"LP3\",6,3)"
   ]
  },
  {
   "cell_type": "code",
   "execution_count": null,
   "id": "e42ca4a5",
   "metadata": {},
   "outputs": [],
   "source": [
    "curso1.mostrar_datos_curso()"
   ]
  }
 ],
 "metadata": {
  "kernelspec": {
   "display_name": "Python 3 (ipykernel)",
   "language": "python",
   "name": "python3"
  },
  "language_info": {
   "codemirror_mode": {
    "name": "ipython",
    "version": 3
   },
   "file_extension": ".py",
   "mimetype": "text/x-python",
   "name": "python",
   "nbconvert_exporter": "python",
   "pygments_lexer": "ipython3",
   "version": "3.9.12"
  }
 },
 "nbformat": 4,
 "nbformat_minor": 5
}
