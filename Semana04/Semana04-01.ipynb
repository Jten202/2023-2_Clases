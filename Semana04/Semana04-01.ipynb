{
 "cells": [
  {
   "cell_type": "markdown",
   "id": "06b3726c",
   "metadata": {},
   "source": [
    "1. COLECCIONES"
   ]
  },
  {
   "cell_type": "code",
   "execution_count": 4,
   "id": "9a4149cf",
   "metadata": {},
   "outputs": [
    {
     "name": "stdout",
     "output_type": "stream",
     "text": [
      "['Figueroa', 'Garcia', 'Gutierres', 'Isla']\n"
     ]
    }
   ],
   "source": [
    "aula=[\"Figueroa\",\"Garcia\",\"Gutierres\",\"Isla\"]\n",
    "print(aula)"
   ]
  },
  {
   "cell_type": "code",
   "execution_count": 5,
   "id": "ee397cf1",
   "metadata": {},
   "outputs": [
    {
     "name": "stdout",
     "output_type": "stream",
     "text": [
      "Figueroa\n"
     ]
    }
   ],
   "source": [
    "print(aula[0])"
   ]
  },
  {
   "cell_type": "code",
   "execution_count": 7,
   "id": "7f1492ce",
   "metadata": {},
   "outputs": [
    {
     "name": "stdout",
     "output_type": "stream",
     "text": [
      "Garcia\n"
     ]
    }
   ],
   "source": [
    "print(aula[1])"
   ]
  },
  {
   "cell_type": "code",
   "execution_count": 9,
   "id": "4ba6b621",
   "metadata": {},
   "outputs": [
    {
     "data": {
      "text/plain": [
       "'Lopez'"
      ]
     },
     "execution_count": 9,
     "metadata": {},
     "output_type": "execute_result"
    }
   ],
   "source": [
    "aula[1]=\"Lopez\"\n",
    "aula[1]"
   ]
  },
  {
   "cell_type": "code",
   "execution_count": 10,
   "id": "c7cecfe6",
   "metadata": {},
   "outputs": [
    {
     "data": {
      "text/plain": [
       "['Figueroa', 'Lopez', 'Gutierres', 'Isla']"
      ]
     },
     "execution_count": 10,
     "metadata": {},
     "output_type": "execute_result"
    }
   ],
   "source": [
    "aula"
   ]
  },
  {
   "cell_type": "code",
   "execution_count": 15,
   "id": "2741e6a1",
   "metadata": {},
   "outputs": [
    {
     "data": {
      "text/plain": [
       "['Figueroa',\n",
       " 'Lopez',\n",
       " 'Gutierres',\n",
       " 'Isla',\n",
       " 'Luque',\n",
       " 'Luque',\n",
       " 'Mamani',\n",
       " 'Luque',\n",
       " 'Mamani',\n",
       " 'Luque',\n",
       " 'Mamani']"
      ]
     },
     "execution_count": 15,
     "metadata": {},
     "output_type": "execute_result"
    }
   ],
   "source": [
    "aula.append(\"Luque\")\n",
    "aula.append(\"Mamani\")\n",
    "aula"
   ]
  },
  {
   "cell_type": "code",
   "execution_count": 20,
   "id": "58e794d8",
   "metadata": {},
   "outputs": [
    {
     "ename": "ValueError",
     "evalue": "list.remove(x): x not in list",
     "output_type": "error",
     "traceback": [
      "\u001b[1;31m---------------------------------------------------------------------------\u001b[0m",
      "\u001b[1;31mValueError\u001b[0m                                Traceback (most recent call last)",
      "Input \u001b[1;32mIn [20]\u001b[0m, in \u001b[0;36m<cell line: 1>\u001b[1;34m()\u001b[0m\n\u001b[1;32m----> 1\u001b[0m \u001b[43maula\u001b[49m\u001b[38;5;241;43m.\u001b[39;49m\u001b[43mremove\u001b[49m\u001b[43m(\u001b[49m\u001b[38;5;124;43m\"\u001b[39;49m\u001b[38;5;124;43mFigueroa\u001b[39;49m\u001b[38;5;124;43m\"\u001b[39;49m\u001b[43m)\u001b[49m\n",
      "\u001b[1;31mValueError\u001b[0m: list.remove(x): x not in list"
     ]
    }
   ],
   "source": [
    "aula.remove(\"Figueroa\")"
   ]
  },
  {
   "cell_type": "code",
   "execution_count": 21,
   "id": "0b5c6dc0",
   "metadata": {},
   "outputs": [
    {
     "data": {
      "text/plain": [
       "['Lopez',\n",
       " 'Gutierres',\n",
       " 'Isla',\n",
       " 'Luque',\n",
       " 'Luque',\n",
       " 'Mamani',\n",
       " 'Luque',\n",
       " 'Mamani',\n",
       " 'Luque',\n",
       " 'Mamani']"
      ]
     },
     "execution_count": 21,
     "metadata": {},
     "output_type": "execute_result"
    }
   ],
   "source": [
    "aula"
   ]
  },
  {
   "cell_type": "code",
   "execution_count": 24,
   "id": "25a4bc16",
   "metadata": {},
   "outputs": [
    {
     "data": {
      "text/plain": [
       "10"
      ]
     },
     "execution_count": 24,
     "metadata": {},
     "output_type": "execute_result"
    }
   ],
   "source": [
    "len(aula)"
   ]
  },
  {
   "cell_type": "code",
   "execution_count": 28,
   "id": "aa9ff160",
   "metadata": {},
   "outputs": [
    {
     "name": "stdout",
     "output_type": "stream",
     "text": [
      "Lopez\n",
      "Gutierres\n",
      "Isla\n",
      "Luque\n",
      "Luque\n",
      "Mamani\n",
      "Luque\n",
      "Mamani\n",
      "Luque\n",
      "Mamani\n"
     ]
    }
   ],
   "source": [
    "for alumno in aula:\n",
    "    print (alumno)"
   ]
  },
  {
   "cell_type": "code",
   "execution_count": 29,
   "id": "b7077064",
   "metadata": {},
   "outputs": [],
   "source": [
    "aula.reverse()"
   ]
  },
  {
   "cell_type": "code",
   "execution_count": 30,
   "id": "af8d2d43",
   "metadata": {},
   "outputs": [
    {
     "data": {
      "text/plain": [
       "['Mamani',\n",
       " 'Luque',\n",
       " 'Mamani',\n",
       " 'Luque',\n",
       " 'Mamani',\n",
       " 'Luque',\n",
       " 'Luque',\n",
       " 'Isla',\n",
       " 'Gutierres',\n",
       " 'Lopez']"
      ]
     },
     "execution_count": 30,
     "metadata": {},
     "output_type": "execute_result"
    }
   ],
   "source": [
    "aula"
   ]
  },
  {
   "cell_type": "code",
   "execution_count": 32,
   "id": "1fa38d74",
   "metadata": {},
   "outputs": [],
   "source": [
    "aula.sort()"
   ]
  },
  {
   "cell_type": "code",
   "execution_count": 33,
   "id": "50677218",
   "metadata": {
    "scrolled": true
   },
   "outputs": [
    {
     "data": {
      "text/plain": [
       "['Gutierres',\n",
       " 'Isla',\n",
       " 'Lopez',\n",
       " 'Luque',\n",
       " 'Luque',\n",
       " 'Luque',\n",
       " 'Luque',\n",
       " 'Mamani',\n",
       " 'Mamani',\n",
       " 'Mamani']"
      ]
     },
     "execution_count": 33,
     "metadata": {},
     "output_type": "execute_result"
    }
   ],
   "source": [
    "aula"
   ]
  }
 ],
 "metadata": {
  "kernelspec": {
   "display_name": "Python 3 (ipykernel)",
   "language": "python",
   "name": "python3"
  },
  "language_info": {
   "codemirror_mode": {
    "name": "ipython",
    "version": 3
   },
   "file_extension": ".py",
   "mimetype": "text/x-python",
   "name": "python",
   "nbconvert_exporter": "python",
   "pygments_lexer": "ipython3",
   "version": "3.9.12"
  }
 },
 "nbformat": 4,
 "nbformat_minor": 5
}
