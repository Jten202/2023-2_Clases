{
 "cells": [
  {
   "cell_type": "markdown",
   "id": "29547636",
   "metadata": {},
   "source": [
    "# Ingreso Por Teclado"
   ]
  },
  {
   "cell_type": "code",
   "execution_count": 2,
   "id": "dfec5417",
   "metadata": {},
   "outputs": [
    {
     "name": "stdout",
     "output_type": "stream",
     "text": [
      "¿Cual es tu nombre?\n",
      "Jhonny\n",
      "Hola Jhonny\n"
     ]
    }
   ],
   "source": [
    "#Funcion input()\n",
    "print(\"¿Cual es tu nombre?\")\n",
    "nombre= input()\n",
    "print(\"Hola\",nombre)"
   ]
  },
  {
   "cell_type": "code",
   "execution_count": 7,
   "id": "b84690cf",
   "metadata": {},
   "outputs": [
    {
     "name": "stdout",
     "output_type": "stream",
     "text": [
      "Numero 1:\n",
      "2\n",
      "Numero 2:\n",
      "4\n",
      "El reultado de la suma es 6\n"
     ]
    }
   ],
   "source": [
    "print(\"Numero 1:\")\n",
    "numero1= input()\n",
    "print(\"Numero 2:\")\n",
    "numero2= input()\n",
    "numero3= int(numero1) + int(numero2)\n",
    "print(f\"El reultado de la suma es {numero3}\")\n"
   ]
  },
  {
   "cell_type": "code",
   "execution_count": null,
   "id": "b5d6ce20",
   "metadata": {},
   "outputs": [],
   "source": []
  },
  {
   "cell_type": "code",
   "execution_count": null,
   "id": "e44487f7",
   "metadata": {},
   "outputs": [],
   "source": []
  }
 ],
 "metadata": {
  "kernelspec": {
   "display_name": "Python 3 (ipykernel)",
   "language": "python",
   "name": "python3"
  },
  "language_info": {
   "codemirror_mode": {
    "name": "ipython",
    "version": 3
   },
   "file_extension": ".py",
   "mimetype": "text/x-python",
   "name": "python",
   "nbconvert_exporter": "python",
   "pygments_lexer": "ipython3",
   "version": "3.9.12"
  }
 },
 "nbformat": 4,
 "nbformat_minor": 5
}
