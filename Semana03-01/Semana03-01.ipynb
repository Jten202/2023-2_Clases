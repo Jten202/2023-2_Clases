{
 "cells": [
  {
   "cell_type": "markdown",
   "id": "23e5ff65",
   "metadata": {},
   "source": [
    "# Semana03\n",
    "Tenorio Casiano Jhonny"
   ]
  },
  {
   "cell_type": "markdown",
   "id": "a6c1b0bc",
   "metadata": {},
   "source": [
    "Agenda:\n",
    "    1. Números\n",
    "    2. Variables\n",
    "    3. Manejo de Cadenas\n",
    "    4. Ingreso por el Teclado\n",
    "    5. Operadores\n"
   ]
  },
  {
   "cell_type": "markdown",
   "id": "73d76232",
   "metadata": {},
   "source": [
    "1. Números"
   ]
  },
  {
   "cell_type": "code",
   "execution_count": 1,
   "id": "e4c1144e",
   "metadata": {},
   "outputs": [
    {
     "data": {
      "text/plain": [
       "14"
      ]
     },
     "execution_count": 1,
     "metadata": {},
     "output_type": "execute_result"
    }
   ],
   "source": [
    "8+6"
   ]
  },
  {
   "cell_type": "code",
   "execution_count": 2,
   "id": "fba68f3c",
   "metadata": {},
   "outputs": [
    {
     "data": {
      "text/plain": [
       "1.1111111111111112"
      ]
     },
     "execution_count": 2,
     "metadata": {},
     "output_type": "execute_result"
    }
   ],
   "source": [
    "10/9"
   ]
  },
  {
   "cell_type": "code",
   "execution_count": 3,
   "id": "8003fdea",
   "metadata": {},
   "outputs": [
    {
     "data": {
      "text/plain": [
       "42"
      ]
     },
     "execution_count": 3,
     "metadata": {},
     "output_type": "execute_result"
    }
   ],
   "source": [
    "7*6"
   ]
  },
  {
   "cell_type": "code",
   "execution_count": 4,
   "id": "c94a6f7e",
   "metadata": {},
   "outputs": [
    {
     "data": {
      "text/plain": [
       "5"
      ]
     },
     "execution_count": 4,
     "metadata": {},
     "output_type": "execute_result"
    }
   ],
   "source": [
    "9-4"
   ]
  },
  {
   "cell_type": "markdown",
   "id": "e0b8b413",
   "metadata": {},
   "source": [
    "2. Variables"
   ]
  },
  {
   "cell_type": "code",
   "execution_count": 24,
   "id": "1784898a",
   "metadata": {},
   "outputs": [],
   "source": [
    "#Siempre deben iniciar con una letra o un guión abajo(Nuna con un número)"
   ]
  },
  {
   "cell_type": "code",
   "execution_count": 20,
   "id": "04ad0961",
   "metadata": {},
   "outputs": [],
   "source": [
    "edad =41"
   ]
  },
  {
   "cell_type": "code",
   "execution_count": 23,
   "id": "bcd8e572",
   "metadata": {},
   "outputs": [
    {
     "data": {
      "text/plain": [
       "41"
      ]
     },
     "execution_count": 23,
     "metadata": {},
     "output_type": "execute_result"
    }
   ],
   "source": [
    "edad"
   ]
  },
  {
   "cell_type": "code",
   "execution_count": 31,
   "id": "be52c945",
   "metadata": {},
   "outputs": [],
   "source": [
    "nombre=\"Jhonny\""
   ]
  },
  {
   "cell_type": "code",
   "execution_count": 32,
   "id": "9574f215",
   "metadata": {},
   "outputs": [
    {
     "data": {
      "text/plain": [
       "'Jhonny'"
      ]
     },
     "execution_count": 32,
     "metadata": {},
     "output_type": "execute_result"
    }
   ],
   "source": [
    "nombre"
   ]
  },
  {
   "cell_type": "code",
   "execution_count": 26,
   "id": "43f1485c",
   "metadata": {},
   "outputs": [],
   "source": [
    "apellido=\"Tenorio Casiano\""
   ]
  },
  {
   "cell_type": "code",
   "execution_count": 27,
   "id": "efd7d553",
   "metadata": {},
   "outputs": [
    {
     "data": {
      "text/plain": [
       "'Tenorio Casiano'"
      ]
     },
     "execution_count": 27,
     "metadata": {},
     "output_type": "execute_result"
    }
   ],
   "source": [
    "apellido"
   ]
  },
  {
   "cell_type": "code",
   "execution_count": 33,
   "id": "5e467fb7",
   "metadata": {},
   "outputs": [],
   "source": [
    "nombrecompleto=nombre+\" \"+apellido"
   ]
  },
  {
   "cell_type": "code",
   "execution_count": 34,
   "id": "8358a06f",
   "metadata": {},
   "outputs": [
    {
     "data": {
      "text/plain": [
       "'Jhonny Tenorio Casiano'"
      ]
     },
     "execution_count": 34,
     "metadata": {},
     "output_type": "execute_result"
    }
   ],
   "source": [
    "nombrecompleto"
   ]
  },
  {
   "cell_type": "code",
   "execution_count": 35,
   "id": "352845da",
   "metadata": {},
   "outputs": [
    {
     "data": {
      "text/plain": [
       "int"
      ]
     },
     "execution_count": 35,
     "metadata": {},
     "output_type": "execute_result"
    }
   ],
   "source": [
    "#Para saber el tipo de variable utilizamos la función type()\n",
    "numero=50\n",
    "type(numero)"
   ]
  },
  {
   "cell_type": "code",
   "execution_count": 36,
   "id": "493a15bf",
   "metadata": {},
   "outputs": [
    {
     "data": {
      "text/plain": [
       "str"
      ]
     },
     "execution_count": 36,
     "metadata": {},
     "output_type": "execute_result"
    }
   ],
   "source": [
    "type(nombre)"
   ]
  },
  {
   "cell_type": "code",
   "execution_count": 38,
   "id": "7bff5590",
   "metadata": {},
   "outputs": [
    {
     "data": {
      "text/plain": [
       "float"
      ]
     },
     "execution_count": 38,
     "metadata": {},
     "output_type": "execute_result"
    }
   ],
   "source": [
    "talla=1.57\n",
    "type(talla)"
   ]
  },
  {
   "cell_type": "code",
   "execution_count": 41,
   "id": "3cab5d8c",
   "metadata": {},
   "outputs": [
    {
     "data": {
      "text/plain": [
       "'100'"
      ]
     },
     "execution_count": 41,
     "metadata": {},
     "output_type": "execute_result"
    }
   ],
   "source": [
    "#Para convertir un numero en cadena utilizamos str()\n",
    "numero=100\n",
    "cadena=str(numero)\n",
    "cadena"
   ]
  },
  {
   "cell_type": "code",
   "execution_count": 42,
   "id": "c965a9e6",
   "metadata": {},
   "outputs": [
    {
     "data": {
      "text/plain": [
       "50.1"
      ]
     },
     "execution_count": 42,
     "metadata": {},
     "output_type": "execute_result"
    }
   ],
   "source": [
    "cadena2=\"50.1\"\n",
    "numero2=float(cadena2)\n",
    "numero2"
   ]
  },
  {
   "cell_type": "code",
   "execution_count": 44,
   "id": "582d7e31",
   "metadata": {},
   "outputs": [
    {
     "name": "stdout",
     "output_type": "stream",
     "text": [
      "Buenos dias Tenorio Casiano Jhonny, ya se que tienes 8 años.\n"
     ]
    }
   ],
   "source": [
    "#Concatenacion con f\n",
    "#Solo esa diponible a partir de la version 3.6\n",
    "nombre= \"Tenorio Casiano Jhonny\"\n",
    "edad= 8\n",
    "print(f\"Buenos dias {nombre}, ya se que tienes {edad} años.\")"
   ]
  },
  {
   "cell_type": "code",
   "execution_count": null,
   "id": "549c964e",
   "metadata": {},
   "outputs": [],
   "source": []
  }
 ],
 "metadata": {
  "kernelspec": {
   "display_name": "Python 3 (ipykernel)",
   "language": "python",
   "name": "python3"
  },
  "language_info": {
   "codemirror_mode": {
    "name": "ipython",
    "version": 3
   },
   "file_extension": ".py",
   "mimetype": "text/x-python",
   "name": "python",
   "nbconvert_exporter": "python",
   "pygments_lexer": "ipython3",
   "version": "3.9.12"
  }
 },
 "nbformat": 4,
 "nbformat_minor": 5
}
