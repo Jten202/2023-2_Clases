{
 "cells": [
  {
   "cell_type": "markdown",
   "id": "23e5ff65",
   "metadata": {},
   "source": [
    "# Semana03\n",
    "Tenorio Casiano Jhonny"
   ]
  },
  {
   "cell_type": "markdown",
   "id": "a6c1b0bc",
   "metadata": {},
   "source": [
    "Agenda:\n",
    "    1. Números\n",
    "    2. Variables\n",
    "    3. Manejo de Cadenas\n",
    "    4. Ingreso por el Teclado\n",
    "    5. Operadores\n"
   ]
  },
  {
   "cell_type": "markdown",
   "id": "73d76232",
   "metadata": {},
   "source": [
    "1. Números"
   ]
  },
  {
   "cell_type": "code",
   "execution_count": 1,
   "id": "e4c1144e",
   "metadata": {},
   "outputs": [
    {
     "data": {
      "text/plain": [
       "14"
      ]
     },
     "execution_count": 1,
     "metadata": {},
     "output_type": "execute_result"
    }
   ],
   "source": [
    "8+6"
   ]
  },
  {
   "cell_type": "code",
   "execution_count": 2,
   "id": "fba68f3c",
   "metadata": {},
   "outputs": [
    {
     "data": {
      "text/plain": [
       "1.1111111111111112"
      ]
     },
     "execution_count": 2,
     "metadata": {},
     "output_type": "execute_result"
    }
   ],
   "source": [
    "10/9"
   ]
  },
  {
   "cell_type": "code",
   "execution_count": 3,
   "id": "8003fdea",
   "metadata": {},
   "outputs": [
    {
     "data": {
      "text/plain": [
       "42"
      ]
     },
     "execution_count": 3,
     "metadata": {},
     "output_type": "execute_result"
    }
   ],
   "source": [
    "7*6"
   ]
  },
  {
   "cell_type": "code",
   "execution_count": 4,
   "id": "c94a6f7e",
   "metadata": {},
   "outputs": [
    {
     "data": {
      "text/plain": [
       "5"
      ]
     },
     "execution_count": 4,
     "metadata": {},
     "output_type": "execute_result"
    }
   ],
   "source": [
    "9-4"
   ]
  },
  {
   "cell_type": "code",
   "execution_count": null,
   "id": "1638eabc",
   "metadata": {},
   "outputs": [],
   "source": []
  },
  {
   "cell_type": "code",
   "execution_count": null,
   "id": "c77a48d2",
   "metadata": {},
   "outputs": [],
   "source": []
  },
  {
   "cell_type": "code",
   "execution_count": null,
   "id": "5c8c08e5",
   "metadata": {},
   "outputs": [],
   "source": []
  },
  {
   "cell_type": "code",
   "execution_count": null,
   "id": "be52c945",
   "metadata": {},
   "outputs": [],
   "source": []
  },
  {
   "cell_type": "code",
   "execution_count": null,
   "id": "43f1485c",
   "metadata": {},
   "outputs": [],
   "source": []
  }
 ],
 "metadata": {
  "kernelspec": {
   "display_name": "Python 3 (ipykernel)",
   "language": "python",
   "name": "python3"
  },
  "language_info": {
   "codemirror_mode": {
    "name": "ipython",
    "version": 3
   },
   "file_extension": ".py",
   "mimetype": "text/x-python",
   "name": "python",
   "nbconvert_exporter": "python",
   "pygments_lexer": "ipython3",
   "version": "3.9.12"
  }
 },
 "nbformat": 4,
 "nbformat_minor": 5
}
