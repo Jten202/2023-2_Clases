{
 "cells": [
  {
   "cell_type": "markdown",
   "id": "9bd2095e",
   "metadata": {},
   "source": [
    "# Operadores"
   ]
  },
  {
   "cell_type": "code",
   "execution_count": 3,
   "id": "35ad5945",
   "metadata": {},
   "outputs": [],
   "source": [
    "# 5.1 Operadores aritmeticos"
   ]
  },
  {
   "cell_type": "code",
   "execution_count": 7,
   "id": "6c11eab7",
   "metadata": {},
   "outputs": [
    {
     "name": "stdout",
     "output_type": "stream",
     "text": [
      "Suma: 17\n",
      "Resta: 3\n",
      "Multiplicacion: 70\n",
      "Division: 1.4285714285714286\n",
      "Residuo: 3\n",
      "Cociente: 1\n"
     ]
    }
   ],
   "source": [
    "num1=10\n",
    "num2=7\n",
    "suma= num1+num2\n",
    "resta=num1-num2\n",
    "multiplicacion=num1*num2\n",
    "division=num1/num2\n",
    "residuo=num1%num2\n",
    "cociente=num1//num2\n",
    "print(\"Suma:\",suma)\n",
    "print(\"Resta:\",resta)\n",
    "print(\"Multiplicacion:\",multiplicacion)\n",
    "print(\"Division:\",division)\n",
    "print(\"Residuo:\",residuo)\n",
    "print(\"Cociente:\",cociente)"
   ]
  },
  {
   "cell_type": "code",
   "execution_count": 9,
   "id": "280d0703",
   "metadata": {},
   "outputs": [
    {
     "data": {
      "text/plain": [
       "8"
      ]
     },
     "execution_count": 9,
     "metadata": {},
     "output_type": "execute_result"
    }
   ],
   "source": [
    "numero=5\n",
    "numero+=3\n",
    "numero"
   ]
  },
  {
   "cell_type": "code",
   "execution_count": 10,
   "id": "d7488f8d",
   "metadata": {},
   "outputs": [
    {
     "data": {
      "text/plain": [
       "512"
      ]
     },
     "execution_count": 10,
     "metadata": {},
     "output_type": "execute_result"
    }
   ],
   "source": [
    "numero**=3\n",
    "numero"
   ]
  },
  {
   "cell_type": "code",
   "execution_count": 11,
   "id": "3e300fc0",
   "metadata": {},
   "outputs": [],
   "source": [
    "#Operadores de comparacion\n",
    "#Se tiene: ==, !=, <, >, <=, >="
   ]
  },
  {
   "cell_type": "code",
   "execution_count": 13,
   "id": "44d915d9",
   "metadata": {},
   "outputs": [
    {
     "data": {
      "text/plain": [
       "False"
      ]
     },
     "execution_count": 13,
     "metadata": {},
     "output_type": "execute_result"
    }
   ],
   "source": [
    "num1==num2"
   ]
  },
  {
   "cell_type": "code",
   "execution_count": 15,
   "id": "8a907880",
   "metadata": {},
   "outputs": [
    {
     "data": {
      "text/plain": [
       "True"
      ]
     },
     "execution_count": 15,
     "metadata": {},
     "output_type": "execute_result"
    }
   ],
   "source": [
    "nombre1=\"Juan\"\n",
    "nombre2=\"Juan\"\n",
    "nombre1==nombre2"
   ]
  },
  {
   "cell_type": "code",
   "execution_count": null,
   "id": "6aaca27f",
   "metadata": {},
   "outputs": [],
   "source": []
  },
  {
   "cell_type": "code",
   "execution_count": null,
   "id": "aa5e6dda",
   "metadata": {},
   "outputs": [],
   "source": []
  },
  {
   "cell_type": "code",
   "execution_count": null,
   "id": "92b108b6",
   "metadata": {},
   "outputs": [],
   "source": []
  }
 ],
 "metadata": {
  "kernelspec": {
   "display_name": "Python 3 (ipykernel)",
   "language": "python",
   "name": "python3"
  },
  "language_info": {
   "codemirror_mode": {
    "name": "ipython",
    "version": 3
   },
   "file_extension": ".py",
   "mimetype": "text/x-python",
   "name": "python",
   "nbconvert_exporter": "python",
   "pygments_lexer": "ipython3",
   "version": "3.9.12"
  }
 },
 "nbformat": 4,
 "nbformat_minor": 5
}
