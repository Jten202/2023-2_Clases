{
 "cells": [
  {
   "cell_type": "markdown",
   "id": "d6893b91",
   "metadata": {},
   "source": [
    "# Operadores"
   ]
  },
  {
   "cell_type": "code",
   "execution_count": 3,
   "id": "a2672cc5",
   "metadata": {},
   "outputs": [],
   "source": [
    "# 5.1 Operadores aritmeticos"
   ]
  },
  {
   "cell_type": "code",
   "execution_count": 7,
   "id": "a00f1910",
   "metadata": {},
   "outputs": [
    {
     "name": "stdout",
     "output_type": "stream",
     "text": [
      "Suma: 17\n",
      "Resta: 3\n",
      "Multiplicacion: 70\n",
      "Division: 1.4285714285714286\n",
      "Residuo: 3\n",
      "Cociente: 1\n"
     ]
    }
   ],
   "source": [
    "num1=10\n",
    "num2=7\n",
    "suma= num1+num2\n",
    "resta=num1-num2\n",
    "multiplicacion=num1*num2\n",
    "division=num1/num2\n",
    "residuo=num1%num2\n",
    "cociente=num1//num2\n",
    "print(\"Suma:\",suma)\n",
    "print(\"Resta:\",resta)\n",
    "print(\"Multiplicacion:\",multiplicacion)\n",
    "print(\"Division:\",division)\n",
    "print(\"Residuo:\",residuo)\n",
    "print(\"Cociente:\",cociente)"
   ]
  },
  {
   "cell_type": "code",
   "execution_count": null,
   "id": "2714dbdc",
   "metadata": {},
   "outputs": [],
   "source": []
  },
  {
   "cell_type": "code",
   "execution_count": null,
   "id": "4c459aaf",
   "metadata": {},
   "outputs": [],
   "source": []
  },
  {
   "cell_type": "code",
   "execution_count": null,
   "id": "72374148",
   "metadata": {},
   "outputs": [],
   "source": []
  }
 ],
 "metadata": {
  "kernelspec": {
   "display_name": "Python 3 (ipykernel)",
   "language": "python",
   "name": "python3"
  },
  "language_info": {
   "codemirror_mode": {
    "name": "ipython",
    "version": 3
   },
   "file_extension": ".py",
   "mimetype": "text/x-python",
   "name": "python",
   "nbconvert_exporter": "python",
   "pygments_lexer": "ipython3",
   "version": "3.9.12"
  }
 },
 "nbformat": 4,
 "nbformat_minor": 5
}
