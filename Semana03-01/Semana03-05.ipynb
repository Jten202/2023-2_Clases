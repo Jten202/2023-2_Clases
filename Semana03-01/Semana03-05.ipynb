{
 "cells": [
  {
   "cell_type": "markdown",
   "id": "49419286",
   "metadata": {},
   "source": [
    "# Operadores"
   ]
  },
  {
   "cell_type": "code",
   "execution_count": 3,
   "id": "9f5d55aa",
   "metadata": {},
   "outputs": [],
   "source": [
    "# 5.1 Operadores aritmeticos"
   ]
  },
  {
   "cell_type": "code",
   "execution_count": 7,
   "id": "842a08a3",
   "metadata": {},
   "outputs": [
    {
     "name": "stdout",
     "output_type": "stream",
     "text": [
      "Suma: 17\n",
      "Resta: 3\n",
      "Multiplicacion: 70\n",
      "Division: 1.4285714285714286\n",
      "Residuo: 3\n",
      "Cociente: 1\n"
     ]
    }
   ],
   "source": [
    "num1=10\n",
    "num2=7\n",
    "suma= num1+num2\n",
    "resta=num1-num2\n",
    "multiplicacion=num1*num2\n",
    "division=num1/num2\n",
    "residuo=num1%num2\n",
    "cociente=num1//num2\n",
    "print(\"Suma:\",suma)\n",
    "print(\"Resta:\",resta)\n",
    "print(\"Multiplicacion:\",multiplicacion)\n",
    "print(\"Division:\",division)\n",
    "print(\"Residuo:\",residuo)\n",
    "print(\"Cociente:\",cociente)"
   ]
  },
  {
   "cell_type": "code",
   "execution_count": 9,
   "id": "90b1b12e",
   "metadata": {},
   "outputs": [
    {
     "data": {
      "text/plain": [
       "8"
      ]
     },
     "execution_count": 9,
     "metadata": {},
     "output_type": "execute_result"
    }
   ],
   "source": [
    "numero=5\n",
    "numero+=3\n",
    "numero"
   ]
  },
  {
   "cell_type": "code",
   "execution_count": 10,
   "id": "62abf51e",
   "metadata": {},
   "outputs": [
    {
     "data": {
      "text/plain": [
       "512"
      ]
     },
     "execution_count": 10,
     "metadata": {},
     "output_type": "execute_result"
    }
   ],
   "source": [
    "numero**=3\n",
    "numero"
   ]
  },
  {
   "cell_type": "code",
   "execution_count": 11,
   "id": "635d7b77",
   "metadata": {},
   "outputs": [],
   "source": [
    "#Operadores de comparacion\n",
    "#Se tiene: ==, !=, <, >, <=, >="
   ]
  },
  {
   "cell_type": "code",
   "execution_count": 13,
   "id": "b436f964",
   "metadata": {},
   "outputs": [
    {
     "data": {
      "text/plain": [
       "False"
      ]
     },
     "execution_count": 13,
     "metadata": {},
     "output_type": "execute_result"
    }
   ],
   "source": [
    "num1==num2"
   ]
  },
  {
   "cell_type": "code",
   "execution_count": 15,
   "id": "d0de81b4",
   "metadata": {},
   "outputs": [
    {
     "data": {
      "text/plain": [
       "True"
      ]
     },
     "execution_count": 15,
     "metadata": {},
     "output_type": "execute_result"
    }
   ],
   "source": [
    "nombre1=\"Juan\"\n",
    "nombre2=\"Juan\"\n",
    "nombre1==nombre2"
   ]
  },
  {
   "cell_type": "code",
   "execution_count": 16,
   "id": "ba02d30d",
   "metadata": {},
   "outputs": [],
   "source": [
    "#Operador Logicos\n",
    "num3=7\n",
    "num4=11"
   ]
  },
  {
   "cell_type": "code",
   "execution_count": 17,
   "id": "0786ad5e",
   "metadata": {},
   "outputs": [
    {
     "data": {
      "text/plain": [
       "False"
      ]
     },
     "execution_count": 17,
     "metadata": {},
     "output_type": "execute_result"
    }
   ],
   "source": [
    "num1<num2"
   ]
  },
  {
   "cell_type": "code",
   "execution_count": 25,
   "id": "63300ae8",
   "metadata": {},
   "outputs": [
    {
     "data": {
      "text/plain": [
       "False"
      ]
     },
     "execution_count": 25,
     "metadata": {},
     "output_type": "execute_result"
    }
   ],
   "source": [
    "num1<num2 and num3<num4"
   ]
  },
  {
   "cell_type": "code",
   "execution_count": 26,
   "id": "35ef402d",
   "metadata": {},
   "outputs": [
    {
     "data": {
      "text/plain": [
       "False"
      ]
     },
     "execution_count": 26,
     "metadata": {},
     "output_type": "execute_result"
    }
   ],
   "source": [
    "(num1<num2 and num3<num4) or (num3>num4)"
   ]
  },
  {
   "cell_type": "code",
   "execution_count": 28,
   "id": "88f24ffb",
   "metadata": {},
   "outputs": [],
   "source": [
    "aula=[\"Juan\",\"Daniel\",\"Alumno\"]\n",
    "alumno1=\"Diego\"\n",
    "alumno2=\"Daniel\""
   ]
  },
  {
   "cell_type": "code",
   "execution_count": 32,
   "id": "e676b081",
   "metadata": {},
   "outputs": [
    {
     "data": {
      "text/plain": [
       "False"
      ]
     },
     "execution_count": 32,
     "metadata": {},
     "output_type": "execute_result"
    }
   ],
   "source": [
    "alumno1 in aula"
   ]
  },
  {
   "cell_type": "code",
   "execution_count": 31,
   "id": "93da12b4",
   "metadata": {},
   "outputs": [
    {
     "data": {
      "text/plain": [
       "True"
      ]
     },
     "execution_count": 31,
     "metadata": {},
     "output_type": "execute_result"
    }
   ],
   "source": [
    "alumno2 in aula"
   ]
  },
  {
   "cell_type": "code",
   "execution_count": 35,
   "id": "2863ec24",
   "metadata": {},
   "outputs": [],
   "source": [
    "aula1=[\"Juan\",\"Daniel\",\"Ruben\"]\n",
    "aula2=[\"Juan\",\"Daniel\",\"Ruben\"]\n",
    "aula3=aula1"
   ]
  },
  {
   "cell_type": "code",
   "execution_count": 37,
   "id": "f2eed35b",
   "metadata": {},
   "outputs": [
    {
     "data": {
      "text/plain": [
       "True"
      ]
     },
     "execution_count": 37,
     "metadata": {},
     "output_type": "execute_result"
    }
   ],
   "source": [
    "aula3 is aula1"
   ]
  },
  {
   "cell_type": "code",
   "execution_count": 38,
   "id": "30d70d93",
   "metadata": {},
   "outputs": [],
   "source": [
    "aula1.append(\"Jhonny\")"
   ]
  },
  {
   "cell_type": "code",
   "execution_count": 39,
   "id": "bb7272f4",
   "metadata": {},
   "outputs": [
    {
     "data": {
      "text/plain": [
       "['Juan', 'Daniel', 'Ruben', 'Jhonny']"
      ]
     },
     "execution_count": 39,
     "metadata": {},
     "output_type": "execute_result"
    }
   ],
   "source": [
    "aula1"
   ]
  },
  {
   "cell_type": "code",
   "execution_count": 42,
   "id": "e6b77c13",
   "metadata": {},
   "outputs": [
    {
     "data": {
      "text/plain": [
       "True"
      ]
     },
     "execution_count": 42,
     "metadata": {},
     "output_type": "execute_result"
    }
   ],
   "source": [
    "aula1 is aula3"
   ]
  },
  {
   "cell_type": "code",
   "execution_count": 43,
   "id": "0167b3ea",
   "metadata": {},
   "outputs": [
    {
     "data": {
      "text/plain": [
       "False"
      ]
     },
     "execution_count": 43,
     "metadata": {},
     "output_type": "execute_result"
    }
   ],
   "source": [
    "aula1 is aula2\n"
   ]
  },
  {
   "cell_type": "code",
   "execution_count": null,
   "id": "d72aac18",
   "metadata": {},
   "outputs": [],
   "source": []
  },
  {
   "cell_type": "code",
   "execution_count": null,
   "id": "50ebdeff",
   "metadata": {},
   "outputs": [],
   "source": []
  }
 ],
 "metadata": {
  "kernelspec": {
   "display_name": "Python 3 (ipykernel)",
   "language": "python",
   "name": "python3"
  },
  "language_info": {
   "codemirror_mode": {
    "name": "ipython",
    "version": 3
   },
   "file_extension": ".py",
   "mimetype": "text/x-python",
   "name": "python",
   "nbconvert_exporter": "python",
   "pygments_lexer": "ipython3",
   "version": "3.9.12"
  }
 },
 "nbformat": 4,
 "nbformat_minor": 5
}
